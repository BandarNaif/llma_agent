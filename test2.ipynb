{
 "cells": [
  {
   "cell_type": "code",
   "execution_count": 1,
   "metadata": {},
   "outputs": [],
   "source": [
    "from langchain_ollama import ChatOllama\n",
    "from llama_parse import LlamaParse\n",
    "llm = ChatOllama(model=\"mistral\")\n",
    "pars = LlamaParse(result_type=\"markdown\")\n"
   ]
  },
  {
   "cell_type": "code",
   "execution_count": 11,
   "metadata": {},
   "outputs": [],
   "source": [
    "from langchain.document_loaders import DirectoryLoader, PyPDFLoader  \n",
    "# File extractor\n",
    "document = PyPDFLoader(\"./data/Bandar.pdf\").load()\n"
   ]
  },
  {
   "cell_type": "code",
   "execution_count": 12,
   "metadata": {},
   "outputs": [],
   "source": [
    "from langchain_ollama import OllamaEmbeddings\n",
    "embed_model =OllamaEmbeddings(model=\"llama3\")"
   ]
  },
  {
   "cell_type": "code",
   "execution_count": 14,
   "metadata": {},
   "outputs": [],
   "source": [
    "from langchain.vectorstores import FAISS\n",
    "vectorstore = FAISS.from_documents(document, embed_model)"
   ]
  },
  {
   "cell_type": "code",
   "execution_count": 15,
   "metadata": {},
   "outputs": [],
   "source": [
    "from langchain.chains import RetrievalQA"
   ]
  },
  {
   "cell_type": "code",
   "execution_count": 16,
   "metadata": {},
   "outputs": [],
   "source": [
    "qa_chain = RetrievalQA.from_chain_type(llm, retriever=vectorstore.as_retriever())"
   ]
  },
  {
   "cell_type": "code",
   "execution_count": 17,
   "metadata": {},
   "outputs": [],
   "source": [
    "from langchain_ollama import ChatOllama\n",
    "from langchain.document_loaders import  PyPDFLoader \n",
    "from langchain_ollama import OllamaEmbeddings\n",
    "from langchain.vectorstores import FAISS\n",
    "from langchain.chains import RetrievalQA\n",
    "\n",
    "# Load model llm\n",
    "llm = ChatOllama(model=\"mistral\")\n",
    "# File loader\n",
    "document = PyPDFLoader(\"./data/Bandar.pdf\").load()\n",
    "# Embedding model \n",
    "embed_model =OllamaEmbeddings(model=\"llama3\")\n",
    "# Vector store index\n",
    "vectorstore = FAISS.from_documents(document, embed_model)\n",
    "# build chain to be ready for agent (Prepere the tool)\n",
    "qa_chain = RetrievalQA.from_chain_type(llm, retriever=vectorstore.as_retriever())"
   ]
  },
  {
   "cell_type": "code",
   "execution_count": null,
   "metadata": {},
   "outputs": [],
   "source": [
    "from langchain_ollama import ChatOllama\n",
    "from llama_parse import LlamaParse\n",
    "from llama_index.core import SimpleDirectoryReader , VectorStoreIndex\n",
    "from langchain_ollama import OllamaEmbeddings\n",
    "from llama_index.core.tools import QueryEngineTool, ToolMetadata\n",
    "llm = ChatOllama(model=\"llama3\")\n",
    "# Use LlamaParse for Markdown or other formats, if needed.\n",
    "pars = LlamaParse(result_type=\"markdown\")\n",
    "\n",
    "# Modify to handle CSV files correctly\n",
    "file_extractor = {\".pdf\": pars}  # This ensures CSV files are parsed correctly\n",
    "\n",
    "# Load CSV data from a directory\n",
    "csv_file = SimpleDirectoryReader(\"./data\", file_extractor=file_extractor).load_data()\n",
    "\n",
    "embed_model = OllamaEmbeddings(model=\"llama3\")\n",
    "vector_index = VectorStoreIndex.from_documents(csv_file, embed_model=embed_model)\n",
    "query_engine = vector_index.as_query_engine(llm=llm)\n",
    "\n",
    "query_engine = QueryEngineTool(\n",
    "        query_engine=query_engine,\n",
    "        metadata = ToolMetadata(\n",
    "        name =\"Bandar information\",\n",
    "        description = \"read the pdf file and analyze it to be able to give answer about it\")\n",
    "        \n",
    "    )"
   ]
  },
  {
   "cell_type": "code",
   "execution_count": 1,
   "metadata": {},
   "outputs": [],
   "source": [
    "from langchain_ollama import ChatOllama\n",
    "from langchain_community.document_loaders import PyPDFLoader \n",
    "from langchain_ollama import OllamaEmbeddings\n",
    "from langchain_community.vectorstores import FAISS\n",
    "from langchain.chains import RetrievalQA\n",
    "from langchain_core.tools import Tool\n",
    "# Load model llm\n",
    "llm = ChatOllama(model=\"mistral\")\n",
    "# File loader\n",
    "document = PyPDFLoader(\"./data/Bandar.pdf\").load()\n",
    "# Embedding model \n",
    "embed_model =OllamaEmbeddings(model=\"llama3\")\n",
    "# Vector store index\n",
    "vectorstore = FAISS.from_documents(document, embed_model)\n",
    "# build chain to be ready for agent (Prepere the tool)\n",
    "qa_chain = RetrievalQA.from_chain_type(llm, retriever=vectorstore.as_retriever())\n",
    "\n",
    "\n",
    "qa_chain = Tool(\n",
    "    name=\"ReadPDFile\",\n",
    "    func=qa_chain,\n",
    "    description=\"read pdf file and answer to question related to pdf\"\n",
    ")\n"
   ]
  },
  {
   "cell_type": "code",
   "execution_count": 2,
   "metadata": {},
   "outputs": [
    {
     "name": "stderr",
     "output_type": "stream",
     "text": [
      "C:\\Users\\B.Almutairi\\AppData\\Local\\Temp\\ipykernel_21272\\2396657439.py:2: LangChainDeprecationWarning: The method `Chain.__call__` was deprecated in langchain 0.1.0 and will be removed in 1.0. Use :meth:`~invoke` instead.\n",
      "  answer = qa_chain.func(\"What is Bandar major?\")\n"
     ]
    },
    {
     "name": "stdout",
     "output_type": "stream",
     "text": [
      "{'query': 'What is Bandar major?', 'result': \" Based on the context provided, Bandar's major is Electrical Engineering.\"}\n"
     ]
    }
   ],
   "source": [
    "# Example usage: Call the tool to answer a question about the PDF\n",
    "answer = qa_chain.func(\"What is Bandar major?\")\n",
    "print(answer)"
   ]
  },
  {
   "cell_type": "code",
   "execution_count": 3,
   "metadata": {},
   "outputs": [
    {
     "data": {
      "text/plain": [
       "\" Based on the context provided, Bandar's major is Electrical Engineering.\""
      ]
     },
     "execution_count": 3,
     "metadata": {},
     "output_type": "execute_result"
    }
   ],
   "source": [
    "answer['result']"
   ]
  },
  {
   "cell_type": "code",
   "execution_count": null,
   "metadata": {},
   "outputs": [],
   "source": []
  }
 ],
 "metadata": {
  "kernelspec": {
   "display_name": "env",
   "language": "python",
   "name": "python3"
  },
  "language_info": {
   "codemirror_mode": {
    "name": "ipython",
    "version": 3
   },
   "file_extension": ".py",
   "mimetype": "text/x-python",
   "name": "python",
   "nbconvert_exporter": "python",
   "pygments_lexer": "ipython3",
   "version": "3.12.1"
  }
 },
 "nbformat": 4,
 "nbformat_minor": 2
}
