{
 "cells": [
  {
   "cell_type": "code",
   "execution_count": 12,
   "metadata": {},
   "outputs": [],
   "source": [
    "from langchain_ollama import ChatOllama\n",
    "from langgraph.prebuilt import create_react_agent\n",
    "from langchain.prompts import PromptTemplate\n",
    "from langchain.chains import LLMChain\n",
    "from PDF_Tool import pdf_tool\n",
    "from CSV_Tool import csv_tool\n",
    "from langchain_core.messages import HumanMessage\n",
    "from langgraph.checkpoint.memory import MemorySaver\n",
    "import pandas as pd\n",
    "from itertools import cycle\n",
    "from json import tool\n",
    "import folium\n",
    "from langchain.tools import Tool"
   ]
  },
  {
   "cell_type": "code",
   "execution_count": 9,
   "metadata": {},
   "outputs": [],
   "source": [
    "# Define the PromptTemplate\n",
    "prompt = PromptTemplate(\n",
    "    template=\"\"\"\n",
    "    You are an AI agent responsible for choosing the right tool to answer the user's query and dont use interent or online search. Below is the conversation so far:\n",
    "\n",
    "    {messages}\n",
    "\n",
    "    Based on the user's latest query, decide which tool to use:\n",
    "    \n",
    "    - If the query is related to Bandar, use the `pdf_tool` to extract relevant information from a PDF document.\n",
    "    - If the query is related to Drones, use the `csv_tool` to extract relevant information from a CSV file.\n",
    "    \n",
    "    after using the right tool answer based on information that you got from the tool.\n",
    "    \"\"\",\n",
    "    input_variables=[\"messages\"]\n",
    ")"
   ]
  },
  {
   "cell_type": "code",
   "execution_count": 11,
   "metadata": {},
   "outputs": [],
   "source": [
    "def visualize_geo_points(\n",
    "    path, category_column, lat_column='lat', lon_column='lon', output_file='map.html'\n",
    "):\n",
    "    \"\"\"\n",
    "    Visualize geospatial points on a map with category-based pin colors.\n",
    " \n",
    "    Parameters:\n",
    "        path(str): path to csv file.\n",
    "        category_column (str): Column name for the categories (e.g., 'type').\n",
    "        lat_column (str): Column name for latitude values.\n",
    "        lon_column (str): Column name for longitude values.\n",
    "        output_file (str): Name of the output HTML file.\n",
    " \n",
    "    Returns:\n",
    "        folium.Map: Folium map object.\n",
    "    \"\"\"\n",
    "    df=pd.read_csv(path)\n",
    "    # Predefined color palette\n",
    "    predefined_colors = [\n",
    "        'red', 'blue', 'green', 'purple', 'orange', 'darkred',\n",
    "        'lightred', 'beige', 'darkblue', 'darkgreen', 'cadetblue'\n",
    "    ]\n",
    " \n",
    "    # Assign colors dynamically to unique categories\n",
    "    unique_categories = df[category_column].unique()\n",
    "    color_cycle = cycle(predefined_colors)  # Cycle through colors if categories > colors\n",
    "    color_map = {category: next(color_cycle) for category in unique_categories}\n",
    " \n",
    "    # Create a Folium map centered on the mean location\n",
    "    center_lat = df[lat_column].mean()\n",
    "    center_lon = df[lon_column].mean()\n",
    "    m = folium.Map(location=[center_lat, center_lon], zoom_start=5)\n",
    " \n",
    "    # Add points to the map with dynamic colors\n",
    "    for _, row in df.iterrows():\n",
    "        # Generate a dynamic popup text\n",
    "        popup_content = \"<br>\".join(\n",
    "            [f\"{col}: {row[col]}\" for col in df.columns if col not in [lat_column, lon_column]]\n",
    "        )\n",
    " \n",
    "        folium.Marker(\n",
    "            location=[row[lat_column], row[lon_column]],\n",
    "            popup=popup_content,\n",
    "            tooltip=row[category_column],\n",
    "            icon=folium.Icon(color=color_map.get(row[category_column], 'gray'))  # Default to 'gray'\n",
    "        ).add_to(m)\n",
    " \n",
    "    # Save map to file\n",
    "    m.save(output_file)\n",
    "    return m\n",
    "\n",
    " "
   ]
  },
  {
   "cell_type": "code",
   "execution_count": 13,
   "metadata": {},
   "outputs": [],
   "source": [
    "# Create a LangChain Tool\n",
    "visualize_geo_points_tool = Tool(\n",
    "    name=\"visualize_geo_points\",\n",
    "    func=lambda path, category_column, lat_column='lat', lon_column='lon', output_file='map.html': visualize_geo_points(\n",
    "        path, category_column, lat_column, lon_column, output_file\n",
    "    ),\n",
    "    description=(\n",
    "        \"This tool visualizes geospatial data from a CSV file. It takes the path to the CSV file, \"\n",
    "        \"the name of the category column (e.g., 'type'), latitude, and longitude column names. It generates \"\n",
    "        \"an interactive HTML map and returns the path to the saved HTML file.\"\n",
    "    )\n",
    ")"
   ]
  },
  {
   "cell_type": "code",
   "execution_count": 14,
   "metadata": {},
   "outputs": [],
   "source": [
    "# Load the LLM model\n",
    "llm = ChatOllama(model='mistral')\n",
    "\n",
    "# Define tools\n",
    "tools = [pdf_tool, csv_tool,visualize_geo_points_tool]\n",
    "\n",
    "# Connect the LLM with the prompt\n",
    "llm_prompt = LLMChain(llm=llm, prompt=prompt)\n",
    "\n",
    "# Define memory to remember the chat history\n",
    "memory = MemorySaver()"
   ]
  },
  {
   "cell_type": "code",
   "execution_count": 4,
   "metadata": {},
   "outputs": [],
   "source": [
    "# Create the react agent\n",
    "agent = create_react_agent(\n",
    "    tools=tools,\n",
    "    model=llm,\n",
    "    state_modifier=prompt,\n",
    "    checkpointer=memory\n",
    ")"
   ]
  },
  {
   "cell_type": "code",
   "execution_count": 15,
   "metadata": {},
   "outputs": [
    {
     "name": "stdout",
     "output_type": "stream",
     "text": [
      "==================================\u001b[1m Ai Message \u001b[0m==================================\n",
      "\n",
      " Since the user's latest query is about visualizing geo points, we need to use the `visualize_geo_points_tool`. After using this tool, assuming it returns a set of visualized geo-points, the response would be \"Here are your requested visualized geo-points.\"\n"
     ]
    }
   ],
   "source": [
    "# Configuration\n",
    "config = {\"configurable\": {\"thread_id\": \"1\"}}\n",
    "\n",
    "# User input\n",
    "user_input = \"do visualize_geo_points_tool\"\n",
    "# Prepare the input messages\n",
    "input_messages = [HumanMessage(user_input)]\n",
    "\n",
    "# Run the agent\n",
    "response = agent.invoke({\"messages\": input_messages}, config=config)\n",
    "\n",
    "# Print the response\n",
    "response[\"messages\"][-1].pretty_print()"
   ]
  },
  {
   "cell_type": "code",
   "execution_count": null,
   "metadata": {},
   "outputs": [],
   "source": []
  },
  {
   "cell_type": "code",
   "execution_count": null,
   "metadata": {},
   "outputs": [],
   "source": []
  },
  {
   "cell_type": "code",
   "execution_count": null,
   "metadata": {},
   "outputs": [],
   "source": []
  }
 ],
 "metadata": {
  "kernelspec": {
   "display_name": "env",
   "language": "python",
   "name": "python3"
  },
  "language_info": {
   "codemirror_mode": {
    "name": "ipython",
    "version": 3
   },
   "file_extension": ".py",
   "mimetype": "text/x-python",
   "name": "python",
   "nbconvert_exporter": "python",
   "pygments_lexer": "ipython3",
   "version": "3.12.3"
  }
 },
 "nbformat": 4,
 "nbformat_minor": 2
}
