{
 "cells": [
  {
   "cell_type": "code",
   "execution_count": 1,
   "metadata": {},
   "outputs": [],
   "source": [
    "from langchain_ollama import ChatOllama\n",
    "from langgraph.prebuilt import create_react_agent\n",
    "from langchain.prompts import PromptTemplate\n",
    "from langchain.chains import LLMChain\n",
    "from langchain_core.messages import HumanMessage\n",
    "from langgraph.checkpoint.memory import MemorySaver\n",
    "from langchain.tools import tool\n",
    "import pandas as pd\n",
    "import folium\n",
    "from itertools import cycle"
   ]
  },
  {
   "cell_type": "code",
   "execution_count": 2,
   "metadata": {},
   "outputs": [],
   "source": [
    "\n",
    "\n",
    "# Define the PromptTemplate\n",
    "prompt = PromptTemplate(\n",
    "    template=\"\"\"\n",
    "    You are an AI agent responsible for executing tasks based on the user's query. Below is the conversation so far:\n",
    "\n",
    "    {messages}\n",
    "\n",
    "    Based on the user's query, choose the appropriate tool:\n",
    "    \n",
    "    - If the query is related to get columns, use `get_columns` to extract column names from a CSV file.\n",
    "    - If the query is related to visualize, use `visualize_geo_points` to generate a visualization map and save it as an HTML file.\n",
    "    \n",
    "    Perform the necessary action directly and inform the user of the results. Always include the file path of the output if a file is generated.\n",
    "    \"\"\",\n",
    "    input_variables=[\"messages\"]\n",
    ")"
   ]
  },
  {
   "cell_type": "code",
   "execution_count": 3,
   "metadata": {},
   "outputs": [],
   "source": [
    "@tool\n",
    "def get_columns(path: str):\n",
    "    \"\"\"\n",
    "    Read csv files and get the names of the columns.\n",
    "    \n",
    "    Parameters:\n",
    "        path: str - Path to the CSV file.\n",
    "    \n",
    "    Returns:\n",
    "        list: List of the column names.\n",
    "    \"\"\"\n",
    "    \n",
    "    print(pd.read_csv(path).columns)\n",
    "    return list(pd.read_csv(path).columns)"
   ]
  },
  {
   "cell_type": "code",
   "execution_count": 1,
   "metadata": {},
   "outputs": [
    {
     "ename": "NameError",
     "evalue": "name 'tool' is not defined",
     "output_type": "error",
     "traceback": [
      "\u001b[0;31m---------------------------------------------------------------------------\u001b[0m",
      "\u001b[0;31mNameError\u001b[0m                                 Traceback (most recent call last)",
      "Cell \u001b[0;32mIn[1], line 1\u001b[0m\n\u001b[0;32m----> 1\u001b[0m \u001b[38;5;129m@tool\u001b[39m\n\u001b[1;32m      2\u001b[0m \u001b[38;5;28;01mdef\u001b[39;00m\u001b[38;5;250m \u001b[39m\u001b[38;5;21mvisualize_geo_points\u001b[39m(path:\u001b[38;5;28mstr\u001b[39m, category_column, lat_column\u001b[38;5;241m=\u001b[39m\u001b[38;5;124m'\u001b[39m\u001b[38;5;124mlat\u001b[39m\u001b[38;5;124m'\u001b[39m, lon_column\u001b[38;5;241m=\u001b[39m\u001b[38;5;124m'\u001b[39m\u001b[38;5;124mlon\u001b[39m\u001b[38;5;124m'\u001b[39m, output_file\u001b[38;5;241m=\u001b[39m\u001b[38;5;124m'\u001b[39m\u001b[38;5;124mmap.html\u001b[39m\u001b[38;5;124m'\u001b[39m):\n\u001b[1;32m      3\u001b[0m \u001b[38;5;250m    \u001b[39m\u001b[38;5;124;03m\"\"\"\u001b[39;00m\n\u001b[1;32m      4\u001b[0m \u001b[38;5;124;03m    Visualize geospatial points on a map with category-based pin colors.\u001b[39;00m\n\u001b[1;32m      5\u001b[0m \u001b[38;5;124;03m    \u001b[39;00m\n\u001b[0;32m   (...)\u001b[0m\n\u001b[1;32m     14\u001b[0m \u001b[38;5;124;03m        str: Path to the generated map HTML file.\u001b[39;00m\n\u001b[1;32m     15\u001b[0m \u001b[38;5;124;03m    \"\"\"\u001b[39;00m\n\u001b[1;32m     16\u001b[0m     df \u001b[38;5;241m=\u001b[39m pd\u001b[38;5;241m.\u001b[39mread_csv(path)\n",
      "\u001b[0;31mNameError\u001b[0m: name 'tool' is not defined"
     ]
    }
   ],
   "source": [
    "@tool\n",
    "def visualize_geo_points(path:str, category_column:str, lat_column='lat', lon_column='lon', output_file='map.html'):\n",
    "    \"\"\"\n",
    "    Visualize geospatial points on a map with category-based pin colors.\n",
    "    \n",
    "    Parameters:\n",
    "        path (str): Path to CSV file.\n",
    "        category_column (str): Column name for categories (e.g., 'type').\n",
    "        lat_column (str): Column name for latitude values.\n",
    "        lon_column (str): Column name for longitude values.\n",
    "        output_file (str): Name of the output HTML file.\n",
    "    \n",
    "    Returns:\n",
    "        str: Path to the generated map HTML file.\n",
    "    \"\"\"\n",
    "    df = pd.read_csv(path)\n",
    "    # Predefined color palette\n",
    "    predefined_colors = [\n",
    "        'red', 'blue', 'green', 'purple', 'orange', 'darkred',\n",
    "        'lightred', 'beige', 'darkblue', 'darkgreen', 'cadetblue'\n",
    "    ]\n",
    "\n",
    "    # Assign colors dynamically to unique categories\n",
    "    unique_categories = df[category_column].unique()\n",
    "    color_cycle = cycle(predefined_colors)  # Cycle through colors if categories > colors\n",
    "    color_map = {category: next(color_cycle) for category in unique_categories}\n",
    "\n",
    "    # Create a Folium map centered on the mean location\n",
    "    center_lat = df[lat_column].mean()\n",
    "    center_lon = df[lon_column].mean()\n",
    "    m = folium.Map(location=[center_lat, center_lon], zoom_start=5)\n",
    "\n",
    "    # Add points to the map with dynamic colors\n",
    "    for _, row in df.iterrows():\n",
    "        # Generate a dynamic popup text\n",
    "        popup_content = \"<br>\".join(\n",
    "            [f\"{col}: {row[col]}\" for col in df.columns if col not in [lat_column, lon_column]]\n",
    "        )\n",
    "\n",
    "        folium.Marker(\n",
    "            location=[row[lat_column], row[lon_column]],\n",
    "            popup=popup_content,\n",
    "            tooltip=row[category_column],\n",
    "            icon=folium.Icon(color=color_map.get(row[category_column], 'gray'))  # Default to 'gray'\n",
    "        ).add_to(m)\n",
    "\n",
    "    # Save map to file\n",
    "    m.save(output_file)\n",
    "    return f\"Map saved to {output_file}\"\n"
   ]
  },
  {
   "cell_type": "code",
   "execution_count": null,
   "metadata": {},
   "outputs": [],
   "source": [
    "\n",
    "# Load the LLM model\n",
    "llm = ChatOllama(model='mistral',temperature=0)\n",
    "\n",
    "# Define tools\n",
    "tools = [get_columns, visualize_geo_points]\n",
    "\n",
    "# Connect the LLM with the prompt\n",
    "llm_prompt = LLMChain(llm=llm, prompt=prompt)\n",
    "\n",
    "# Define memory to remember the chat history\n",
    "memory = MemorySaver()"
   ]
  },
  {
   "cell_type": "code",
   "execution_count": 6,
   "metadata": {},
   "outputs": [],
   "source": [
    "# Create the react agent\n",
    "agent = create_react_agent(\n",
    "    tools=tools,\n",
    "    model=llm,\n",
    "    state_modifier=prompt,\n",
    "    checkpointer=memory\n",
    ")\n"
   ]
  },
  {
   "cell_type": "code",
   "execution_count": null,
   "metadata": {},
   "outputs": [],
   "source": [
    "# Configuration\n",
    "config = {\"configurable\": {\"thread_id\": \"1\"}}\n",
    "# User input\n",
    "user_input = \"Get columns of /home/pc/Desktop/llma_agent/data/wildLifeInKsa.csv and visualize it.\"\n",
    "\n",
    "# Prepare the input messages\n",
    "input_messages = [HumanMessage(user_input)]\n",
    "\n",
    "# Run the agent\n",
    "response = agent.invoke({\"messages\": input_messages},config=config)\n",
    "\n",
    "# Print the response\n",
    "print(response[\"messages\"][-1].content)\n"
   ]
  },
  {
   "cell_type": "code",
   "execution_count": null,
   "metadata": {},
   "outputs": [],
   "source": []
  }
 ],
 "metadata": {
  "kernelspec": {
   "display_name": "env",
   "language": "python",
   "name": "python3"
  },
  "language_info": {
   "codemirror_mode": {
    "name": "ipython",
    "version": 3
   },
   "file_extension": ".py",
   "mimetype": "text/x-python",
   "name": "python",
   "nbconvert_exporter": "python",
   "pygments_lexer": "ipython3",
   "version": "3.12.3"
  }
 },
 "nbformat": 4,
 "nbformat_minor": 2
}
